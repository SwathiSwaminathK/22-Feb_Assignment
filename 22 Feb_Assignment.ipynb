{
 "cells": [
  {
   "cell_type": "code",
   "execution_count": 22,
   "metadata": {},
   "outputs": [],
   "source": [
    "import pandas as pd\n",
    "from selenium import webdriver\n",
    "from bs4 import BeautifulSoup as bs\n",
    "from webdriver_manager.chrome import ChromeDriverManager"
   ]
  },
  {
   "cell_type": "code",
   "execution_count": 2,
   "metadata": {},
   "outputs": [
    {
     "name": "stderr",
     "output_type": "stream",
     "text": [
      "\n",
      "\n",
      "====== WebDriver manager ======\n",
      "Current google-chrome version is 110.0.5481\n",
      "Get LATEST chromedriver version for 110.0.5481 google-chrome\n",
      "Driver [C:\\Users\\ASUS\\.wdm\\drivers\\chromedriver\\win32\\110.0.5481.77\\chromedriver.exe] found in cache\n",
      "<ipython-input-2-348526eb5466>:1: DeprecationWarning: executable_path has been deprecated, please pass in a Service object\n",
      "  driver = webdriver.Chrome(executable_path=ChromeDriverManager().install())\n"
     ]
    }
   ],
   "source": [
    "driver = webdriver.Chrome(executable_path=ChromeDriverManager().install())"
   ]
  },
  {
   "cell_type": "code",
   "execution_count": 3,
   "metadata": {},
   "outputs": [],
   "source": [
    "driver.get(\"https://www.youtube.com/@PW-Foundation/videos\")"
   ]
  },
  {
   "cell_type": "code",
   "execution_count": 4,
   "metadata": {},
   "outputs": [],
   "source": [
    "content = driver.page_source.encode('utf-8').strip()\n",
    "soup = bs(content, 'html.parser')"
   ]
  },
  {
   "cell_type": "code",
   "execution_count": 5,
   "metadata": {},
   "outputs": [],
   "source": [
    "video_tags = soup.findAll('a',{\"class\":\"yt-simple-endpoint inline-block style-scope ytd-thumbnail\"})"
   ]
  },
  {
   "cell_type": "code",
   "execution_count": 7,
   "metadata": {},
   "outputs": [],
   "source": [
    "del video_tags[0]"
   ]
  },
  {
   "cell_type": "code",
   "execution_count": 8,
   "metadata": {},
   "outputs": [
    {
     "data": {
      "text/plain": [
       "29"
      ]
     },
     "execution_count": 8,
     "metadata": {},
     "output_type": "execute_result"
    }
   ],
   "source": [
    "len(video_tags)"
   ]
  },
  {
   "cell_type": "markdown",
   "metadata": {},
   "source": [
    "#### Q1. URL of the first five videos"
   ]
  },
  {
   "cell_type": "code",
   "execution_count": 9,
   "metadata": {},
   "outputs": [
    {
     "name": "stdout",
     "output_type": "stream",
     "text": [
      "https://www.youtube.com/watch?v=-osuIPJkPWg\n",
      "https://www.youtube.com/watch?v=VsKb_U2-Cx0\n",
      "https://www.youtube.com/watch?v=ZNHlCezYN1I\n",
      "https://www.youtube.com/watch?v=nNmV-fuGW5c\n",
      "https://www.youtube.com/watch?v=6Mht7UigC_w\n"
     ]
    }
   ],
   "source": [
    "video_urls = []\n",
    "for i in video_tags[:5]:\n",
    "    print('https://www.youtube.com'+ i['href'])\n",
    "    video_urls.append('https://www.youtube.com'+ i['href'])"
   ]
  },
  {
   "cell_type": "markdown",
   "metadata": {},
   "source": [
    "#### Q2. URL of the video thumbnails of the first five videos"
   ]
  },
  {
   "cell_type": "code",
   "execution_count": 10,
   "metadata": {},
   "outputs": [],
   "source": [
    "thumbnail = soup.findAll('img', {'class':'yt-core-image--fill-parent-height yt-core-image--fill-parent-width yt-core-image yt-core-image--content-mode-scale-aspect-fill yt-core-image--loaded'})"
   ]
  },
  {
   "cell_type": "code",
   "execution_count": 11,
   "metadata": {},
   "outputs": [
    {
     "name": "stdout",
     "output_type": "stream",
     "text": [
      "https://i.ytimg.com/vi/-osuIPJkPWg/hqdefault.jpg?sqp=-oaymwEcCNACELwBSFXyq4qpAw4IARUAAIhCGAFwAcABBg==&rs=AOn4CLAIzE3_yVozBODRCJvZ4Qg29v3UuA\n",
      "https://i.ytimg.com/vi/VsKb_U2-Cx0/hqdefault.jpg?sqp=-oaymwEcCNACELwBSFXyq4qpAw4IARUAAIhCGAFwAcABBg==&rs=AOn4CLBVtsaBL6O32XQx_7Qi-wdGfjn_iA\n",
      "https://i.ytimg.com/vi/ZNHlCezYN1I/hqdefault.jpg?sqp=-oaymwEcCNACELwBSFXyq4qpAw4IARUAAIhCGAFwAcABBg==&rs=AOn4CLBCFqdlLDBC2Kkf3zEF-LK5TNEwkw\n",
      "https://i.ytimg.com/vi/nNmV-fuGW5c/hqdefault.jpg?sqp=-oaymwEcCNACELwBSFXyq4qpAw4IARUAAIhCGAFwAcABBg==&rs=AOn4CLBjSM8jHxXjo8skRTMryGUJsisS9w\n",
      "https://i.ytimg.com/vi/6Mht7UigC_w/hqdefault.jpg?sqp=-oaymwEcCNACELwBSFXyq4qpAw4IARUAAIhCGAFwAcABBg==&rs=AOn4CLBHz1uk4Eqa1RW0V9RSoeH8xYtUPA\n"
     ]
    }
   ],
   "source": [
    "thumbnail_urls = []\n",
    "for i in thumbnail[:5]:\n",
    "    print(i['src'])\n",
    "    thumbnail_urls.append(i['src'])"
   ]
  },
  {
   "cell_type": "markdown",
   "metadata": {},
   "source": [
    "#### Q3. Title of the first five videos"
   ]
  },
  {
   "cell_type": "code",
   "execution_count": 12,
   "metadata": {},
   "outputs": [],
   "source": [
    "yt = soup.findAll('yt-formatted-string', {\"id\":\"video-title\"})[:5]"
   ]
  },
  {
   "cell_type": "code",
   "execution_count": 13,
   "metadata": {},
   "outputs": [
    {
     "data": {
      "text/plain": [
       "'Complete 𝗠𝗮𝗴𝗻𝗲𝘁𝗶𝗰 𝗘𝗳𝗳𝗲𝗰𝘁 𝗼𝗳 𝗘𝗹𝗲𝗰𝘁𝗿𝗶𝗰 𝗖𝘂𝗿𝗿𝗲𝗻𝘁 in 2 Hours 15 Minutes | Class 10th Board Exam'"
      ]
     },
     "execution_count": 13,
     "metadata": {},
     "output_type": "execute_result"
    }
   ],
   "source": [
    "yt[0].text"
   ]
  },
  {
   "cell_type": "code",
   "execution_count": 14,
   "metadata": {},
   "outputs": [
    {
     "name": "stdout",
     "output_type": "stream",
     "text": [
      "Complete 𝗠𝗮𝗴𝗻𝗲𝘁𝗶𝗰 𝗘𝗳𝗳𝗲𝗰𝘁 𝗼𝗳 𝗘𝗹𝗲𝗰𝘁𝗿𝗶𝗰 𝗖𝘂𝗿𝗿𝗲𝗻𝘁 in 2 Hours 15 Minutes | Class 10th Board Exam\n",
      "Complete 𝗛𝘂𝗺𝗮𝗻 𝗘𝘆𝗲 & 𝗧𝗵𝗲 𝗖𝗼𝗹𝗼𝘂𝗿𝗳𝘂𝗹 𝗪𝗼𝗿𝗹𝗱 in 2 Hours 24 Minutes | Class 10th Board Exam\n",
      "Complete 𝗘𝗹𝗲𝗰𝘁𝗿𝗶𝗰𝗶𝘁𝘆 in 2 Hours 4 Minutes  | Class 10th Board Exam\n",
      "Complete 𝗟𝗜𝗚𝗛𝗧 in 3 Hours 49 Minutes | Class 10th Board Exam\n",
      "NEW Batches for Class 10 & 9 - Session 2023-24 || NEEV and UDAAN Batch Launch 🚀\n"
     ]
    }
   ],
   "source": [
    "video_title = []\n",
    "for i in range(5):\n",
    "    print(yt[i].text)\n",
    "    video_title.append(yt[i].text)"
   ]
  },
  {
   "cell_type": "markdown",
   "metadata": {},
   "source": [
    "#### Q4. Number of views of the first five videos"
   ]
  },
  {
   "cell_type": "code",
   "execution_count": 15,
   "metadata": {},
   "outputs": [],
   "source": [
    "views = soup.findAll('span',{'class':'inline-metadata-item style-scope ytd-video-meta-block'})"
   ]
  },
  {
   "cell_type": "code",
   "execution_count": 16,
   "metadata": {},
   "outputs": [
    {
     "name": "stdout",
     "output_type": "stream",
     "text": [
      "17K views\n",
      "9K views\n",
      "32K views\n",
      "50K views\n",
      "41K views\n"
     ]
    }
   ],
   "source": [
    "video_views = []\n",
    "for i in range(0,10,2):\n",
    "    print(views[i].text)\n",
    "    video_views.append(views[i].text)"
   ]
  },
  {
   "cell_type": "markdown",
   "metadata": {},
   "source": [
    "#### Q5. Time of posting of the first five videos."
   ]
  },
  {
   "cell_type": "code",
   "execution_count": 17,
   "metadata": {},
   "outputs": [],
   "source": [
    "time = soup.findAll('span',{'class':'inline-metadata-item style-scope ytd-video-meta-block'})"
   ]
  },
  {
   "cell_type": "code",
   "execution_count": 18,
   "metadata": {},
   "outputs": [
    {
     "name": "stdout",
     "output_type": "stream",
     "text": [
      "11 hours ago\n",
      "12 hours ago\n",
      "17 hours ago\n",
      "21 hours ago\n",
      "23 hours ago\n"
     ]
    }
   ],
   "source": [
    "video_uploaded = []\n",
    "for i in range(1,11,2):\n",
    "    print(time[i].text)\n",
    "    video_uploaded.append(time[i].text)"
   ]
  },
  {
   "cell_type": "markdown",
   "metadata": {},
   "source": [
    "#### Save all the data scraped in the above questions in a CSV file."
   ]
  },
  {
   "cell_type": "code",
   "execution_count": 25,
   "metadata": {},
   "outputs": [
    {
     "name": "stdout",
     "output_type": "stream",
     "text": [
      "                                    Video_urls  \\\n",
      "0  https://www.youtube.com/watch?v=-osuIPJkPWg   \n",
      "1  https://www.youtube.com/watch?v=VsKb_U2-Cx0   \n",
      "2  https://www.youtube.com/watch?v=ZNHlCezYN1I   \n",
      "3  https://www.youtube.com/watch?v=nNmV-fuGW5c   \n",
      "4  https://www.youtube.com/watch?v=6Mht7UigC_w   \n",
      "\n",
      "                                      Thumbnail_urls  \\\n",
      "0  https://i.ytimg.com/vi/-osuIPJkPWg/hqdefault.j...   \n",
      "1  https://i.ytimg.com/vi/VsKb_U2-Cx0/hqdefault.j...   \n",
      "2  https://i.ytimg.com/vi/ZNHlCezYN1I/hqdefault.j...   \n",
      "3  https://i.ytimg.com/vi/nNmV-fuGW5c/hqdefault.j...   \n",
      "4  https://i.ytimg.com/vi/6Mht7UigC_w/hqdefault.j...   \n",
      "\n",
      "                                         Video_title Video_views  \\\n",
      "0  Complete 𝗠𝗮𝗴𝗻𝗲𝘁𝗶𝗰 𝗘𝗳𝗳𝗲𝗰𝘁 𝗼𝗳 𝗘𝗹𝗲𝗰𝘁𝗿𝗶𝗰 𝗖𝘂𝗿𝗿𝗲𝗻𝘁 i...   17K views   \n",
      "1  Complete 𝗛𝘂𝗺𝗮𝗻 𝗘𝘆𝗲 & 𝗧𝗵𝗲 𝗖𝗼𝗹𝗼𝘂𝗿𝗳𝘂𝗹 𝗪𝗼𝗿𝗹𝗱 in 2 ...    9K views   \n",
      "2  Complete 𝗘𝗹𝗲𝗰𝘁𝗿𝗶𝗰𝗶𝘁𝘆 in 2 Hours 4 Minutes  | C...   32K views   \n",
      "3  Complete 𝗟𝗜𝗚𝗛𝗧 in 3 Hours 49 Minutes | Class 1...   50K views   \n",
      "4  NEW Batches for Class 10 & 9 - Session 2023-24...   41K views   \n",
      "\n",
      "  Video_uploaded  \n",
      "0   11 hours ago  \n",
      "1   12 hours ago  \n",
      "2   17 hours ago  \n",
      "3   21 hours ago  \n",
      "4   23 hours ago  \n"
     ]
    }
   ],
   "source": [
    "df = pd.DataFrame({'Thumbnail_urls':thumbnail_urls,\n",
    "                    'Video_title':video_title,\n",
    "                    'Video_urls':video_urls, \n",
    "                    'Video_views':video_views, \n",
    "                    'Video_uploaded':video_uploaded})\n",
    "print(df)\n",
    "df.to_csv('Video_Scrapper.csv', index = False)"
   ]
  },
  {
   "cell_type": "code",
   "execution_count": null,
   "metadata": {},
   "outputs": [],
   "source": []
  }
 ],
 "metadata": {
  "kernelspec": {
   "display_name": "Python 3",
   "language": "python",
   "name": "python3"
  },
  "language_info": {
   "codemirror_mode": {
    "name": "ipython",
    "version": 3
   },
   "file_extension": ".py",
   "mimetype": "text/x-python",
   "name": "python",
   "nbconvert_exporter": "python",
   "pygments_lexer": "ipython3",
   "version": "3.8.5"
  }
 },
 "nbformat": 4,
 "nbformat_minor": 4
}
